{
 "cells": [
  {
   "cell_type": "markdown",
   "metadata": {},
   "source": [
    "<h2> Importing </h2>"
   ]
  },
  {
   "cell_type": "code",
   "execution_count": 11,
   "metadata": {},
   "outputs": [],
   "source": [
    "import pandas as pd\n",
    "import numpy as np\n",
    "import requests\n",
    "import sqlite3\n",
    "from bs4 import BeautifulSoup\n",
    "from datetime import datetime"
   ]
  },
  {
   "cell_type": "markdown",
   "metadata": {},
   "source": [
    "<h2> Initialization </h2>"
   ]
  },
  {
   "cell_type": "code",
   "execution_count": 38,
   "metadata": {},
   "outputs": [],
   "source": [
    "url=\"https://web.archive.org/web/20230908091635 /https://en.wikipedia.org/wiki/List_of_largest_banks\"\n",
    "table_name='largest_banks'\n",
    "path=r'C:\\Users\\GPU-TECH\\Desktop\\Importantجدا\\Banks_Projects_ETL\\largest_banks.csv'\n",
    "db_name='Banks.db'\n",
    "log_file='code_log.txt'"
   ]
  },
  {
   "cell_type": "markdown",
   "metadata": {},
   "source": [
    "<h2>Logging</h2>"
   ]
  },
  {
   "cell_type": "code",
   "execution_count": 39,
   "metadata": {},
   "outputs": [],
   "source": [
    "def log_progress(message):\n",
    "    timestamp_format='%Y-%h-%d-%H:%M:%S'\n",
    "    now=datetime.now()\n",
    "    timestamp=now.strftime(timestamp_format)\n",
    "    with open('log_file','a') as f:\n",
    "        f.write(timestamp+','+message+'\\n')"
   ]
  },
  {
   "cell_type": "markdown",
   "metadata": {},
   "source": [
    "<h2>Extract </h2>"
   ]
  },
  {
   "cell_type": "code",
   "execution_count": 40,
   "metadata": {},
   "outputs": [
    {
     "data": {
      "text/html": [
       "<div>\n",
       "<style scoped>\n",
       "    .dataframe tbody tr th:only-of-type {\n",
       "        vertical-align: middle;\n",
       "    }\n",
       "\n",
       "    .dataframe tbody tr th {\n",
       "        vertical-align: top;\n",
       "    }\n",
       "\n",
       "    .dataframe thead th {\n",
       "        text-align: right;\n",
       "    }\n",
       "</style>\n",
       "<table border=\"1\" class=\"dataframe\">\n",
       "  <thead>\n",
       "    <tr style=\"text-align: right;\">\n",
       "      <th></th>\n",
       "      <th>Bank name</th>\n",
       "      <th>MC_USD_Billion</th>\n",
       "    </tr>\n",
       "  </thead>\n",
       "  <tbody>\n",
       "    <tr>\n",
       "      <th>0</th>\n",
       "      <td>JPMorgan Chase</td>\n",
       "      <td>432.92</td>\n",
       "    </tr>\n",
       "    <tr>\n",
       "      <th>1</th>\n",
       "      <td>Bank of America</td>\n",
       "      <td>231.52</td>\n",
       "    </tr>\n",
       "    <tr>\n",
       "      <th>2</th>\n",
       "      <td>Industrial and Commercial Bank of China</td>\n",
       "      <td>194.56</td>\n",
       "    </tr>\n",
       "    <tr>\n",
       "      <th>3</th>\n",
       "      <td>Agricultural Bank of China</td>\n",
       "      <td>160.68</td>\n",
       "    </tr>\n",
       "    <tr>\n",
       "      <th>4</th>\n",
       "      <td>HDFC Bank</td>\n",
       "      <td>157.91</td>\n",
       "    </tr>\n",
       "    <tr>\n",
       "      <th>5</th>\n",
       "      <td>Wells Fargo</td>\n",
       "      <td>155.87</td>\n",
       "    </tr>\n",
       "    <tr>\n",
       "      <th>6</th>\n",
       "      <td>HSBC Holdings PLC</td>\n",
       "      <td>148.90</td>\n",
       "    </tr>\n",
       "    <tr>\n",
       "      <th>7</th>\n",
       "      <td>Morgan Stanley</td>\n",
       "      <td>140.83</td>\n",
       "    </tr>\n",
       "    <tr>\n",
       "      <th>8</th>\n",
       "      <td>China Construction Bank</td>\n",
       "      <td>139.82</td>\n",
       "    </tr>\n",
       "    <tr>\n",
       "      <th>9</th>\n",
       "      <td>Bank of China</td>\n",
       "      <td>136.81</td>\n",
       "    </tr>\n",
       "  </tbody>\n",
       "</table>\n",
       "</div>"
      ],
      "text/plain": [
       "                                 Bank name MC_USD_Billion\n",
       "0                           JPMorgan Chase         432.92\n",
       "1                          Bank of America         231.52\n",
       "2  Industrial and Commercial Bank of China         194.56\n",
       "3               Agricultural Bank of China         160.68\n",
       "4                                HDFC Bank         157.91\n",
       "5                              Wells Fargo         155.87\n",
       "6                        HSBC Holdings PLC         148.90\n",
       "7                           Morgan Stanley         140.83\n",
       "8                  China Construction Bank         139.82\n",
       "9                            Bank of China         136.81"
      ]
     },
     "execution_count": 40,
     "metadata": {},
     "output_type": "execute_result"
    }
   ],
   "source": [
    "def extract(url):\n",
    "    try:\n",
    "        html_data=requests.get(url).text\n",
    "        data=BeautifulSoup(html_data,'html.parser')\n",
    "        tables=data.find_all('tbody')\n",
    "        rows=tables[1].find_all('tr')\n",
    "        data_list=[]\n",
    "        for row in rows:\n",
    "            col=row.find_all('td')\n",
    "            if len(col)!=0:\n",
    "                data_dict={\n",
    "                    'Bank name':col[1].text.strip(),\n",
    "                    'MC_USD_Billion':col[2].text.strip()\n",
    "                }\n",
    "                data_list.append(data_dict)\n",
    "        df=pd.DataFrame(data_list)\n",
    "        return df   \n",
    "    except:\n",
    "        log_progress(\"an error occured during data extraction\")\n",
    "        \n",
    "extract(url)"
   ]
  },
  {
   "cell_type": "markdown",
   "metadata": {},
   "source": [
    "<h2>Transform </h2>"
   ]
  },
  {
   "cell_type": "code",
   "execution_count": 49,
   "metadata": {},
   "outputs": [],
   "source": [
    "def transform(df):\n",
    "    exchange_rate = {\n",
    "    'GBP': 0.73,  # Sample exchange rate for GBP\n",
    "    'EUR': 0.82,  # Sample exchange rate for EUR\n",
    "    'INR': 74.95  # Sample exchange rate for INR\n",
    "    }\n",
    "    df['MC_USD_Billion']=pd.to_numeric(df['MC_USD_Billion'].str.replace(',',''))\n",
    "    # Adding columns MC_GBP_Billion, MC_EUR_Billion, and MC_INR_Billion\n",
    "    df['MC_GBP_Billion'] = [np.round(float(x) * exchange_rate['GBP'], 2) for x in df['MC_USD_Billion']]\n",
    "    df['MC_EUR_Billion'] = [np.round(float(x) * exchange_rate['EUR'], 2) for x in df['MC_USD_Billion']]\n",
    "    df['MC_INR_Billion'] = [np.round(float(x) * exchange_rate['INR'], 2) for x in df['MC_USD_Billion']]\n",
    "    \n",
    "\n",
    "    return df"
   ]
  },
  {
   "cell_type": "markdown",
   "metadata": {},
   "source": [
    "<h2>Loading_to_csv</h2>"
   ]
  },
  {
   "cell_type": "code",
   "execution_count": 50,
   "metadata": {},
   "outputs": [],
   "source": [
    "def load_to_csv(df,path):\n",
    "    df.to_csv(path,index=False)"
   ]
  },
  {
   "cell_type": "markdown",
   "metadata": {},
   "source": [
    "<h2>Loading_to_db</h2>"
   ]
  },
  {
   "cell_type": "code",
   "execution_count": 51,
   "metadata": {},
   "outputs": [],
   "source": [
    "def load_to_db(df,sql_connection,table_name,):\n",
    "    df.to_sql(table_name,sql_connection,if_exists='replace')"
   ]
  },
  {
   "cell_type": "markdown",
   "metadata": {},
   "source": [
    "<h2>Run Query </h2>"
   ]
  },
  {
   "cell_type": "code",
   "execution_count": 54,
   "metadata": {},
   "outputs": [],
   "source": [
    "def run_query(query_statement,sql_connection):\n",
    "    query_output=pd.read_sql(query_statement,sql_connection)\n",
    "    return query_output"
   ]
  },
  {
   "cell_type": "markdown",
   "metadata": {},
   "source": [
    "<h2>Function Calls</h2>"
   ]
  },
  {
   "cell_type": "code",
   "execution_count": 56,
   "metadata": {},
   "outputs": [],
   "source": [
    "log_progress('Preliminaries complete. Initiating ETL process')\n",
    "\n",
    "df = extract(url)\n",
    "\n",
    "log_progress('Data extraction complete. Initiating Transformation process')\n",
    "\n",
    "df = transform(df)\n",
    "\n",
    "log_progress('Data transformation complete. Initiating loading process')\n",
    "\n",
    "load_to_csv(df, path)\n",
    "\n",
    "log_progress('Data saved to CSV file')\n",
    "\n",
    "sql_connection = sqlite3.connect(db_name)\n",
    "\n",
    "log_progress('SQL Connection initiated.')\n",
    "\n",
    "load_to_db(df, sql_connection, table_name)\n",
    "\n",
    "log_progress('Data loaded to Database as table. Running the query')\n",
    "\n",
    "# Running the Query\n",
    "query_statement = f\"SELECT * FROM {table_name}\"  # Modify the table name to match the one used in the database\n",
    "result = run_query(query_statement, sql_connection)\n",
    "log_progress('Process Complete.')\n",
    "sql_connection.close()"
   ]
  }
 ],
 "metadata": {
  "kernelspec": {
   "display_name": "base",
   "language": "python",
   "name": "python3"
  },
  "language_info": {
   "codemirror_mode": {
    "name": "ipython",
    "version": 3
   },
   "file_extension": ".py",
   "mimetype": "text/x-python",
   "name": "python",
   "nbconvert_exporter": "python",
   "pygments_lexer": "ipython3",
   "version": "3.11.5"
  }
 },
 "nbformat": 4,
 "nbformat_minor": 2
}
